{
 "cells": [
  {
   "cell_type": "code",
   "execution_count": 1,
   "metadata": {},
   "outputs": [
    {
     "name": "stdout",
     "output_type": "stream",
     "text": [
      "Requirement already satisfied: pyautogui in c:\\users\\sebin james\\anaconda3\\lib\\site-packages (0.9.52)\n",
      "Requirement already satisfied: pygetwindow>=0.0.5 in c:\\users\\sebin james\\anaconda3\\lib\\site-packages (from pyautogui) (0.0.9)\n",
      "Requirement already satisfied: pymsgbox in c:\\users\\sebin james\\anaconda3\\lib\\site-packages (from pyautogui) (1.0.9)\n",
      "Requirement already satisfied: pyscreeze>=0.1.21 in c:\\users\\sebin james\\anaconda3\\lib\\site-packages (from pyautogui) (0.1.26)\n",
      "Requirement already satisfied: mouseinfo in c:\\users\\sebin james\\anaconda3\\lib\\site-packages (from pyautogui) (0.1.3)\n",
      "Requirement already satisfied: PyTweening>=1.0.1 in c:\\users\\sebin james\\anaconda3\\lib\\site-packages (from pyautogui) (1.0.3)\n",
      "Requirement already satisfied: pyrect in c:\\users\\sebin james\\anaconda3\\lib\\site-packages (from pygetwindow>=0.0.5->pyautogui) (0.1.4)\n",
      "Requirement already satisfied: Pillow>=6.2.1; python_version == \"3.8\" in c:\\users\\sebin james\\anaconda3\\lib\\site-packages (from pyscreeze>=0.1.21->pyautogui) (8.0.1)\n",
      "Requirement already satisfied: pyperclip in c:\\users\\sebin james\\anaconda3\\lib\\site-packages (from mouseinfo->pyautogui) (1.8.2)\n"
     ]
    }
   ],
   "source": [
    "!pip install pyautogui"
   ]
  },
  {
   "cell_type": "code",
   "execution_count": 2,
   "metadata": {},
   "outputs": [
    {
     "name": "stdout",
     "output_type": "stream",
     "text": [
      "Requirement already satisfied: opencv-python in c:\\users\\sebin james\\anaconda3\\lib\\site-packages (4.5.1.48)\n",
      "Requirement already satisfied: numpy>=1.17.3 in c:\\users\\sebin james\\anaconda3\\lib\\site-packages (from opencv-python) (1.19.2)\n"
     ]
    }
   ],
   "source": [
    "!pip install opencv-python"
   ]
  },
  {
   "cell_type": "code",
   "execution_count": 2,
   "metadata": {},
   "outputs": [],
   "source": [
    "#Importing all the required libraries\n",
    "import pyautogui as pag\n",
    "import cv2 as cv\n",
    "import numpy as np\n"
   ]
  },
  {
   "cell_type": "markdown",
   "metadata": {},
   "source": [
    "Create Video Writer Objects"
   ]
  },
  {
   "cell_type": "code",
   "execution_count": 3,
   "metadata": {},
   "outputs": [],
   "source": [
    "#Defining the resolution\n",
    "resolution = pag.size()\n",
    "\n",
    "#Specify the video codec\n",
    "codec = cv.VideoWriter_fourcc(*\"XVID\")\n",
    "\n",
    "#Specify the name of the output file\n",
    "filename = \"Recording.avi\"\n",
    "\n",
    "#Next we specify the frame rate, we can choose anything as our wish\n",
    "fps = 60.0\n",
    "\n",
    "#Creating the VideoWriter object\n",
    "out = cv.VideoWriter(filename,codec,fps,resolution)\n",
    "\n"
   ]
  },
  {
   "cell_type": "code",
   "execution_count": 4,
   "metadata": {},
   "outputs": [],
   "source": [
    "#Create Windows to show live recordings\n",
    "\n",
    "#Create an Empty Window\n",
    "cv.namedWindow(\"Live\",cv.WINDOW_NORMAL)\n",
    "\n",
    "#We resize this window\n",
    "\n",
    "cv.resizeWindow(\"Live\",480,270)\n",
    "\n",
    "# To display the recording to the user we create an empty window and resize it.\n",
    "\n"
   ]
  },
  {
   "cell_type": "code",
   "execution_count": 5,
   "metadata": {},
   "outputs": [],
   "source": [
    "#Now we create a loop and for each process the pyautogui takes screenshots\n",
    "\n",
    "while True:\n",
    "    image = pag.screenshot()\n",
    "    # For easier processing we convert the sreenshot to numpy array\n",
    "    frame = np.array(image)\n",
    "    frame = cv.cvtColor(frame,cv.COLOR_BGR2RGB)\n",
    "    #We then write this to the output file\n",
    "    out.write(frame)\n",
    "    #To display the recording screen\n",
    "    cv.imshow(\"Live\",frame)\n",
    "    # Stop recording when we press \"q\"\n",
    "    if cv.waitKey(1) == ord(\"q\"):\n",
    "        break\n",
    "    "
   ]
  },
  {
   "cell_type": "code",
   "execution_count": 6,
   "metadata": {},
   "outputs": [],
   "source": [
    "# Release the Video Writer\n",
    "out.release()\n",
    "\n",
    "#Destroying all the windows\n",
    "cv.destroyAllWindows()\n"
   ]
  }
 ],
 "metadata": {
  "kernelspec": {
   "display_name": "Python 3",
   "language": "python",
   "name": "python3"
  },
  "language_info": {
   "codemirror_mode": {
    "name": "ipython",
    "version": 3
   },
   "file_extension": ".py",
   "mimetype": "text/x-python",
   "name": "python",
   "nbconvert_exporter": "python",
   "pygments_lexer": "ipython3",
   "version": "3.8.5"
  }
 },
 "nbformat": 4,
 "nbformat_minor": 4
}
