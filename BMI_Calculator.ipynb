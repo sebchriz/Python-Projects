{
  "nbformat": 4,
  "nbformat_minor": 0,
  "metadata": {
    "colab": {
      "name": "BMI_Calculator.ipynb",
      "provenance": []
    },
    "kernelspec": {
      "name": "python3",
      "display_name": "Python 3"
    },
    "language_info": {
      "name": "python"
    }
  },
  "cells": [
    {
      "cell_type": "markdown",
      "metadata": {
        "id": "wx8nFodxT36Q"
      },
      "source": [
        "# **Body Mass Index Calculator**\n",
        "\n"
      ]
    },
    {
      "cell_type": "code",
      "metadata": {
        "colab": {
          "base_uri": "https://localhost:8080/"
        },
        "id": "ZuWxVy21PEHQ",
        "outputId": "936e2663-47d5-42c9-c928-781ccddccea4"
      },
      "source": [
        "Weight = int(eval(input(\"Enter your weight(kg) : \")))\n",
        "print( \" Weight =\",weight, \"Kg\")\n",
        "unit = input(\"Enter your unit of height, Type F for feet and M for metre : \")"
      ],
      "execution_count": 6,
      "outputs": [
        {
          "output_type": "stream",
          "text": [
            "Enter your weight(kg) : 81\n",
            " Weight = 81 Kg\n",
            "Enter your unit of height, Type F for feet and M for metre : M\n"
          ],
          "name": "stdout"
        }
      ]
    },
    {
      "cell_type": "code",
      "metadata": {
        "colab": {
          "base_uri": "https://localhost:8080/"
        },
        "id": "Qpgiq98uP3R8",
        "outputId": "89d28660-7b5a-46b4-9ff2-d9545fdae8ce"
      },
      "source": [
        "if unit == \"F\" or unit == \"f\" :\n",
        "    feet = int(eval(input(\"Enter your height in feets : \")))\n",
        "    inches = int(eval(input(\"Enter the inches : \")))\n",
        "    Height = ((feet * (0.3048)) + (inches * (0.0254)))\n",
        "else:\n",
        "    Height = int(input(\"enter height in metres(m) : \"))\n",
        "\n",
        "print(\"Height = \", Height , \"metres\")\n",
        "\n"
      ],
      "execution_count": 7,
      "outputs": [
        {
          "output_type": "stream",
          "text": [
            "enter height in metres(m) : 182\n",
            "Height =  182 metres\n"
          ],
          "name": "stdout"
        }
      ]
    },
    {
      "cell_type": "code",
      "metadata": {
        "colab": {
          "base_uri": "https://localhost:8080/"
        },
        "id": "b0UVGvd8Rlmh",
        "outputId": "89d6bd4a-f4f5-4a93-f795-2abfca63942f"
      },
      "source": [
        "BMI = (Weight/(Height)**2) * 10000\n",
        "print(\"BMI Value is : \", BMI , \"Kg/m^2\")\n"
      ],
      "execution_count": 12,
      "outputs": [
        {
          "output_type": "stream",
          "text": [
            "BMI Value is :  24.453568409612366 Kg/m^2\n"
          ],
          "name": "stdout"
        }
      ]
    },
    {
      "cell_type": "markdown",
      "metadata": {
        "id": "8NZdRgyiSZ2U"
      },
      "source": [
        "Depending on the value of BMI, report the user's type given by the following table:\n",
        "\n",
        "● BMI < 18.5 : UNDERWEIGHT\n",
        "\n",
        "● 18.5 <= BMI < 25 : NORMAL\n",
        "\n",
        "● 25 <= BMI < 30 : OVERWEIGHT\n",
        "\n",
        "● BMI > 30 : VERY-OVERWEIGHT"
      ]
    },
    {
      "cell_type": "code",
      "metadata": {
        "id": "Vdgzunt9Tgjj"
      },
      "source": [
        "#Based on the values given the BMI suggests its normal"
      ],
      "execution_count": null,
      "outputs": []
    },
    {
      "cell_type": "markdown",
      "metadata": {
        "id": "BW59j4FMUS1v"
      },
      "source": [
        ""
      ]
    }
  ]
}