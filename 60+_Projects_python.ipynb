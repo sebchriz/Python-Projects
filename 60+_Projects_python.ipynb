{
  "nbformat": 4,
  "nbformat_minor": 0,
  "metadata": {
    "colab": {
      "name": "60+_Projects_python.ipynb",
      "provenance": []
    },
    "kernelspec": {
      "name": "python3",
      "display_name": "Python 3"
    }
  },
  "cells": [
    {
      "cell_type": "markdown",
      "metadata": {
        "id": "bYILyT7wIntm"
      },
      "source": [
        "#**Creating Acronyms using python**"
      ]
    },
    {
      "cell_type": "code",
      "metadata": {
        "colab": {
          "base_uri": "https://localhost:8080/"
        },
        "id": "O3IH3odRIbm3",
        "outputId": "9a3cc11b-8cf5-4471-8c78-ed27a6276694"
      },
      "source": [
        "user_input = str(input(\"Enter a Phrase : \"))\r\n",
        "text = user_input.split()\r\n",
        "a = \" \"\r\n",
        "for i in text :\r\n",
        "  a = a + str(i[0].upper())\r\n",
        "print(a)    "
      ],
      "execution_count": null,
      "outputs": [
        {
          "output_type": "stream",
          "text": [
            "Enter a Phrase : Jeffry james\n",
            " JJ\n"
          ],
          "name": "stdout"
        }
      ]
    },
    {
      "cell_type": "markdown",
      "metadata": {
        "id": "c5s2BANqLHWd"
      },
      "source": [
        "#**Email Slicer with python**"
      ]
    },
    {
      "cell_type": "code",
      "metadata": {
        "colab": {
          "base_uri": "https://localhost:8080/"
        },
        "id": "CJJcLRfZa6_r",
        "outputId": "078d2f41-7229-4520-adce-31899c7ba578"
      },
      "source": [
        "email = input(\"Enter Your Email :\").strip()\r\n",
        "username = email[:email.index(\"@\")]\r\n",
        "domain = email[email.index(\"@\")+1:]\r\n",
        "print(\"Your username is {} and your domain is {}\".format(username,domain))\r\n"
      ],
      "execution_count": null,
      "outputs": [
        {
          "output_type": "stream",
          "text": [
            "Enter Your Email :sebchrizjy33@gmail.com\n",
            "Your username is sebchrizjy33 and your domain is gmail.com\n"
          ],
          "name": "stdout"
        }
      ]
    },
    {
      "cell_type": "markdown",
      "metadata": {
        "id": "mD6_YBwtdirl"
      },
      "source": [
        "#**Python programme to create passwords**"
      ]
    },
    {
      "cell_type": "code",
      "metadata": {
        "colab": {
          "base_uri": "https://localhost:8080/"
        },
        "id": "CLBsNxOadTD5",
        "outputId": "32c91c01-63b3-4cd3-c416-3b568b71dca6"
      },
      "source": [
        "import random as rd\r\n",
        "length = int(input(\"enter the length of the password you need :\"))\r\n",
        "code = \"abcdefghijklmnopqrstuvwxyzABCDEFGHIJKLMNOPQRSTUVWXYZ1234567890!@#$%^&*~\"\r\n",
        "p = \"\".join(rd.sample(code,length))\r\n",
        "print(\"This is your password  : {} \".format(p))\r\n",
        "\r\n"
      ],
      "execution_count": null,
      "outputs": [
        {
          "output_type": "stream",
          "text": [
            "enter the length of the password you need :10\n",
            "This is your password  : %xKa8u7XdE \n"
          ],
          "name": "stdout"
        }
      ]
    },
    {
      "cell_type": "markdown",
      "metadata": {
        "id": "xizbibAQhL4V"
      },
      "source": [
        ""
      ]
    }
  ]
}